{
 "cells": [
  {
   "cell_type": "code",
   "execution_count": 22,
   "id": "782e9919",
   "metadata": {},
   "outputs": [],
   "source": [
    "# https://github.com/derekgreene/topic-model-tutorial/blob/master/1%20-%20Text%20Preprocessing.ipynb\n",
    "from pathlib import Path\n",
    "import operator, joblib\n",
    "from sklearn.feature_extraction.text import CountVectorizer, TfidfVectorizer"
   ]
  },
  {
   "cell_type": "code",
   "execution_count": 23,
   "id": "27a78e3e",
   "metadata": {},
   "outputs": [
    {
     "name": "stdout",
     "output_type": "stream",
     "text": [
      "Read 171 raw text documents\n"
     ]
    }
   ],
   "source": [
    "in_path = Path(\"data\") / \"articles.txt\"\n",
    "raw_documents = []\n",
    "snippets = []\n",
    "with open(in_path, \"r\", encoding=\"utf8\") as fin:\n",
    "    for line in fin.readlines():\n",
    "        text = line.strip()\n",
    "        raw_documents.append( text )\n",
    "        # keep a short snippet of up to 100 characters as a title for each article\n",
    "        snippets.append(text[0:min(len(text),100)])\n",
    "print(\"Read %d raw text documents\" % len(raw_documents))"
   ]
  },
  {
   "cell_type": "code",
   "execution_count": 24,
   "id": "c809006a",
   "metadata": {},
   "outputs": [
    {
     "name": "stdout",
     "output_type": "stream",
     "text": [
      "Stopword list has 1298 entries\n"
     ]
    }
   ],
   "source": [
    "custom_stop_words = []\n",
    "with open( \"stopwords.txt\", \"r\", encoding=\"utf8\") as fin:\n",
    "    for line in fin.readlines():\n",
    "        custom_stop_words.append(line.strip())\n",
    "# note that we need to make it hashable\n",
    "print(\"Stopword list has %d entries\" % len(custom_stop_words))"
   ]
  },
  {
   "cell_type": "code",
   "execution_count": 25,
   "id": "51ece8ef",
   "metadata": {},
   "outputs": [
    {
     "name": "stdout",
     "output_type": "stream",
     "text": [
      "Created 171 X 78 document-term matrix\n"
     ]
    }
   ],
   "source": [
    "# use a custom stopwords list, set the minimum term-document frequency to 20\n",
    "vectorizer = CountVectorizer(stop_words = custom_stop_words, min_df=20)\n",
    "A = vectorizer.fit_transform(raw_documents)\n",
    "print( \"Created %d X %d document-term matrix\" % (A.shape[0], A.shape[1]))"
   ]
  },
  {
   "cell_type": "code",
   "execution_count": 26,
   "id": "e78db32d",
   "metadata": {},
   "outputs": [
    {
     "name": "stdout",
     "output_type": "stream",
     "text": [
      "Vocabulary has 78 distinct terms\n"
     ]
    }
   ],
   "source": [
    "terms =  list(vectorizer.get_feature_names_out())\n",
    "print(\"Vocabulary has %d distinct terms\" % len(terms))"
   ]
  },
  {
   "cell_type": "code",
   "execution_count": 27,
   "id": "76de1589",
   "metadata": {},
   "outputs": [
    {
     "data": {
      "text/plain": [
       "['articles-raw.pkl']"
      ]
     },
     "execution_count": 27,
     "metadata": {},
     "output_type": "execute_result"
    }
   ],
   "source": [
    "joblib.dump((A,terms,snippets), \"articles-raw.pkl\") "
   ]
  },
  {
   "cell_type": "code",
   "execution_count": 28,
   "id": "96533d12",
   "metadata": {},
   "outputs": [
    {
     "name": "stdout",
     "output_type": "stream",
     "text": [
      "Created 171 X 78 TF-IDF-normalized document-term matrix\n"
     ]
    }
   ],
   "source": [
    "# we can pass in the same preprocessing parameters\n",
    "vectorizer = TfidfVectorizer(stop_words=custom_stop_words, min_df = 20)\n",
    "A = vectorizer.fit_transform(raw_documents)\n",
    "print( \"Created %d X %d TF-IDF-normalized document-term matrix\" % (A.shape[0], A.shape[1]) )"
   ]
  },
  {
   "cell_type": "code",
   "execution_count": 29,
   "id": "1e6cfd61",
   "metadata": {},
   "outputs": [
    {
     "name": "stdout",
     "output_type": "stream",
     "text": [
      "Vocabulary has 78 distinct terms\n"
     ]
    }
   ],
   "source": [
    "terms =  list(vectorizer.get_feature_names_out())\n",
    "print(\"Vocabulary has %d distinct terms\" % len(terms))"
   ]
  },
  {
   "cell_type": "code",
   "execution_count": 30,
   "id": "aeb6e599",
   "metadata": {},
   "outputs": [],
   "source": [
    "def rank_terms(A, term):\n",
    "    # get the sums over each column\n",
    "    sums = A.sum(axis=0)\n",
    "    # map weights to the terms\n",
    "    weights = {}\n",
    "    for col, term in enumerate(terms):\n",
    "        weights[term] = sums[0,col]\n",
    "    # rank the terms by their weight over all documents\n",
    "    return sorted(weights.items(), key=operator.itemgetter(1), reverse=True)"
   ]
  },
  {
   "cell_type": "code",
   "execution_count": 32,
   "id": "e16132f7",
   "metadata": {},
   "outputs": [
    {
     "name": "stdout",
     "output_type": "stream",
     "text": [
      "01. model (22.19)\n",
      "02. software (18.99)\n",
      "03. learning (18.85)\n",
      "04. based (16.87)\n",
      "05. devops (16.40)\n",
      "06. systems (16.18)\n",
      "07. testing (15.09)\n",
      "08. engineering (14.77)\n",
      "09. data (14.60)\n",
      "10. models (14.38)\n",
      "11. development (14.13)\n",
      "12. continuous (13.08)\n",
      "13. deployment (12.43)\n",
      "14. driven (12.02)\n",
      "15. integration (11.89)\n",
      "16. approach (11.56)\n",
      "17. cloud (11.26)\n",
      "18. modeling (11.08)\n",
      "19. applications (10.21)\n",
      "20. process (10.09)\n",
      "21. code (9.35)\n",
      "22. requirements (9.09)\n",
      "23. machine (9.08)\n",
      "24. design (8.59)\n",
      "25. architecture (8.49)\n",
      "26. framework (8.42)\n",
      "27. quality (8.36)\n",
      "28. domain (7.98)\n",
      "29. paper (7.94)\n",
      "30. time (7.23)\n",
      "31. analysis (6.88)\n",
      "32. tools (6.82)\n",
      "33. cyber (6.69)\n",
      "34. physical (6.60)\n",
      "35. specific (6.13)\n",
      "36. techniques (6.00)\n",
      "37. support (5.83)\n",
      "38. application (5.82)\n",
      "39. industrial (5.75)\n",
      "40. management (5.66)\n",
      "41. automation (5.65)\n",
      "42. study (5.61)\n",
      "43. challenges (5.53)\n",
      "44. language (5.39)\n",
      "45. automated (5.31)\n",
      "46. proposed (5.08)\n",
      "47. monitoring (5.03)\n",
      "48. performance (5.00)\n",
      "49. approaches (4.97)\n",
      "50. level (4.95)\n",
      "51. tool (4.94)\n",
      "52. components (4.90)\n",
      "53. mde (4.78)\n",
      "54. processes (4.50)\n",
      "55. agile (4.49)\n",
      "56. complex (4.49)\n",
      "57. practices (4.36)\n",
      "58. existing (4.32)\n",
      "59. context (4.30)\n",
      "60. control (4.17)\n",
      "61. propose (4.08)\n",
      "62. evaluation (4.07)\n",
      "63. industry (3.99)\n",
      "64. environment (3.96)\n",
      "65. generation (3.95)\n",
      "66. languages (3.89)\n",
      "67. operations (3.74)\n",
      "68. set (3.63)\n",
      "69. provide (3.62)\n",
      "70. automatically (3.47)\n",
      "71. execution (3.35)\n",
      "72. increasing (3.23)\n",
      "73. key (3.23)\n",
      "74. integrated (3.19)\n",
      "75. complexity (3.18)\n",
      "76. implementation (3.04)\n",
      "77. developed (2.77)\n",
      "78. enable (2.73)\n"
     ]
    }
   ],
   "source": [
    "ranking = rank_terms(A, terms)\n",
    "for i, pair in enumerate(ranking[0:100]):\n",
    "    print( \"%02d. %s (%.2f)\" % (i+1, pair[0], pair[1] ))"
   ]
  },
  {
   "cell_type": "code",
   "execution_count": 33,
   "id": "8cea93fb",
   "metadata": {},
   "outputs": [
    {
     "data": {
      "text/plain": [
       "['articles-tfidf.pkl']"
      ]
     },
     "execution_count": 33,
     "metadata": {},
     "output_type": "execute_result"
    }
   ],
   "source": [
    "joblib.dump((A,terms,snippets), \"articles-tfidf.pkl\") "
   ]
  },
  {
   "cell_type": "code",
   "execution_count": null,
   "id": "ecac34c8",
   "metadata": {},
   "outputs": [],
   "source": []
  }
 ],
 "metadata": {
  "kernelspec": {
   "display_name": "Python 3 (ipykernel)",
   "language": "python",
   "name": "python3"
  },
  "language_info": {
   "codemirror_mode": {
    "name": "ipython",
    "version": 3
   },
   "file_extension": ".py",
   "mimetype": "text/x-python",
   "name": "python",
   "nbconvert_exporter": "python",
   "pygments_lexer": "ipython3",
   "version": "3.9.19"
  }
 },
 "nbformat": 4,
 "nbformat_minor": 5
}
